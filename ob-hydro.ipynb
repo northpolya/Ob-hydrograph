{
 "cells": [
  {
   "cell_type": "markdown",
   "id": "6362c409-e957-4c59-ada9-a53f764195b5",
   "metadata": {},
   "source": [
    "- Подгрузка данных\n",
    "Для данного проекта нами были взяты данные Гидрометцентра с сайта АИС ГМВО, где выбрав фильтрами бассейн реки Оби и данные за опреденный год из опреденного створа. Файл был скачан в формате Excel и перевдён в формат CSV. Далее мы загрузили данные, в них содержатся метаданные с кодом поста, год и дни, и данные по расходам воды"
   ]
  },
  {
   "cell_type": "code",
   "execution_count": 5,
   "id": "4a8be699-e2ad-4406-99bf-d6b35278b448",
   "metadata": {},
   "outputs": [
    {
     "name": "stdout",
     "output_type": "stream",
     "text": [
      "<_csv.reader object at 0x00000226F37A3AC0>\n"
     ]
    }
   ],
   "source": [
    "#Открытие csv-файла с данными среднесуточных расходов воды #Поменяйте\n",
    "import csv\n",
    "with open('Downloads/av_day_water.csv', encoding='utf8') as csvfile:\n",
    "    data=csv.reader(csvfile, delimiter = \",\")\n",
    "    print(data)"
   ]
  },
  {
   "cell_type": "markdown",
   "id": "bbcb4fb6-421f-433c-804d-375e380aa95f",
   "metadata": {},
   "source": [
    "-Обработка данных\n",
    "Далее мы построчно читаем данные и в определенных строчках, которые были определены визуальным анализом, разделяем их по ';'"
   ]
  },
  {
   "cell_type": "code",
   "execution_count": null,
   "id": "4d9eddac-79a4-4b1a-9906-ec9aaf07cb8f",
   "metadata": {},
   "outputs": [],
   "source": [
    "#Преобразование данных из файла в набор нескольких списков путём разделения по ';'\n",
    "    counter=0\n",
    "    pre_ready_data=[]\n",
    "    pre_ready_data_2=[]\n",
    "    pre_ready_data_figure=[]\n",
    "    for i in data:\n",
    "        counter+=1\n",
    "        '''Считает количество строк в файле'''\n",
    "        if counter>26 and counter<=57:\n",
    "            for element in i:\n",
    "                each_figure=element.split(';')"
   ]
  },
  {
   "cell_type": "markdown",
   "id": "7df587c6-e419-43a5-acbb-84951f5317a7",
   "metadata": {},
   "source": [
    "- Формирование чернового списка\n",
    "Далее мы разделяем строки по пробелу, отделяя от цифр доп. обозначения '_' или '^'. Потом мы заменяем элементы, равные ' ' или '-' на строки 'no_data'. Добавляем строки с цифрами и 'no_data'  в один список, а все осталбные в другой, список ненужных значений."
   ]
  },
  {
   "cell_type": "code",
   "execution_count": null,
   "id": "4b4ae6dd-99e0-4f5e-829a-b1a945e74dc6",
   "metadata": {},
   "outputs": [],
   "source": [
    " for m in each_figure:\n",
    "                    #Разделение строк по проблему для получения отдельных значений расхода\n",
    "                    cut_figure=m.split(' ')\n",
    "                    for n in cut_figure:\n",
    "                        #Устранение из датасета символов, не цифр, которые не играют роли в значении расхода воды\n",
    "                        if n=='_' or n=='^':\n",
    "                            l=n\n",
    "                            pre_ready_data_2.append(l)\n",
    "                            '''Представляет список не нужных значений, которые нужно исключить из итогового списка'''\n",
    "                        elif n=='' or n=='-':\n",
    "                        #Заполнение пустых строк значениями для правильности формирования списка\n",
    "                            z='no_data'\n",
    "                            '''Занимает места пустых значений, чтобы при формировании списка не произошло съезжания значений'''\n",
    "                            pre_ready_data.append(z)\n",
    "                        else:\n",
    "                            z=n\n",
    "                            pre_ready_data.append(z)"
   ]
  },
  {
   "cell_type": "markdown",
   "id": "5a315f5c-5f6e-45db-b7e5-53a9357540ee",
   "metadata": {},
   "source": [
    "- Обработка списка и создание его чистового варианта\n",
    "В цикле в диапазоне от 1 до 13 (очередность значений месяца в исходном формате данных), мы создаём список значений для одного месяца и добавляем его в чистовой вариант списка. Потом нам нужно удалить из списка данные 'no_data'. И далее преобразуем данные списка в числа, чтобы мы могли построить график"
   ]
  },
  {
   "cell_type": "code",
   "execution_count": null,
   "id": "ce63d484-78e2-4f56-b6c8-cea2b1ffde25",
   "metadata": {},
   "outputs": [],
   "source": [
    "#Формирование списка строк в годовой список значений расхода воды\n",
    "a=len(pre_ready_data)\n",
    "year_hydrograph=[]\n",
    "ready_hydrograph=[]\n",
    "for g in range (1,13):\n",
    "    mon_hydro=pre_ready_data[g:a:13]\n",
    "    year_hydrograph.extend(mon_hydro)\n",
    "#Вырезание из списка пустых значений\n",
    "for x in year_hydrograph:\n",
    "    if x!='no_data':\n",
    "        ready_hydrograph.append(x)\n",
    "        '''Формирует готовый список, без пустых значений'''\n",
    "fig_ready_hydrograph=[]\n",
    "#Преобразование строковых данных в численные\n",
    "for j in ready_hydrograph:\n",
    "    u=int(j)\n",
    "    '''Преобразует цифры в строках в числа'''\n",
    "    fig_ready_hydrograph.append(u)"
   ]
  },
  {
   "cell_type": "markdown",
   "id": "6a9f41ae-6c4e-4eb2-b26b-fbf7c848ef15",
   "metadata": {},
   "source": [
    "- Создаём список значений с количество дней в году, чтобы мы могли правильно построить график расхода по соответствующим осям"
   ]
  },
  {
   "cell_type": "code",
   "execution_count": null,
   "id": "b998df5e-0f36-4069-909b-95d6ac8ab4b9",
   "metadata": {},
   "outputs": [],
   "source": [
    "#Подсчёт количества дней в году для построения посноценного графика с 2-мя осями\n",
    "date=[]\n",
    "for ig in range (1,(len(fig_ready_hydrograph)+1)):\n",
    "    date.append(ig)"
   ]
  },
  {
   "cell_type": "markdown",
   "id": "43f9fdb8-a3eb-4626-b9c2-f7d8ee4d1bc0",
   "metadata": {},
   "source": [
    "- Подключаем библиотеку numpy и  модуль pyplot библиотеки matplotlib для построения графиков и расчёта некоторых характеристик"
   ]
  },
  {
   "cell_type": "code",
   "execution_count": null,
   "id": "e15026f4-41fa-4dd0-9030-34fd85a361c2",
   "metadata": {},
   "outputs": [],
   "source": [
    "#Подключение библиотек Numpy и Matplotlib для расчёта вспомогательных значений и построения графиков\n",
    "import matplotlib.pyplot as plt\n",
    "import numpy as np"
   ]
  },
  {
   "cell_type": "markdown",
   "id": "b455303d-9b71-4be5-a896-8255370e1dd8",
   "metadata": {},
   "source": [
    "- Построение графиков и подсчёт производной\n",
    "Строим график по данным списка расходов воды посуточно, заливаем область под графиком. С помощью diff считаем производную в каждой точке. Определяем максимальные и минимальные значения производной. Далее определяем их индексы в массиве данных производной. По полученным индексам ограничиваем список расходов воды и строим график фазы половодья, накладывая на общий график расходов воды."
   ]
  },
  {
   "cell_type": "code",
   "execution_count": null,
   "id": "d3e59ba0-a5d0-48cd-857a-94fcea423c8c",
   "metadata": {},
   "outputs": [],
   "source": [
    "#Построение и заливка гидрографа\n",
    "whole=plt.plot(date,fig_ready_hydrograph)\n",
    "plt.fill_between(date, fig_ready_hydrograph, np.zeros_like(fig_ready_hydrograph), color='blue')\n",
    "#Расчёт максимальных и минимальных значений производных для определения периода половодья\n",
    "di=np.diff(fig_ready_hydrograph)     \n",
    '''Считает производную в каждой точке графика''',
    "mi=min(di)\n",
    "ma=max(di)\n",
    "lj=(np.where(di==mi))\n",
    "gh=(np.where(di==ma))\n",
    '''Определяет индекс максимального и минимального значения в списке производных'''\n,
    "start_polovodie=int(gh[0])\n",
    "finish_pol=int(lj[0])\n",
    "#Выделение на графике стадии половодья\n",
    "polv=plt.plot(date[start_polovodie:finish_pol],fig_ready_hydrograph[start_polovodie:finish_pol])\n",
    "plt.fill_between(date[start_polovodie:finish_pol],fig_ready_hydrograph[start_polovodie:finish_pol], np.zeros_like(fig_ready_hydrograph[start_polovodie:finish_pol]), color='green')\n",
    "#Оформление гидрографа\n",
    "plt.ylabel ('Расход воды, м3/с') \n",
    "plt.xlabel ('День года')\n",
    "plt.title('Гидрограф р. Оби в нижнем течении')\n",
    "plt.show(whole,polv)\n"
   ]
  },
  {
   "cell_type": "code",
   "execution_count": null,
   "id": "6ab84430-cb2e-4fd0-844a-13924d3393de",
   "metadata": {},
   "outputs": [],
   "source": [
    "По данным расходов воды из списка считаем средний расход воды в сути, а также суммарный расход воды за год"
   ]
  },
  {
   "cell_type": "code",
   "execution_count": null,
   "id": "2f24669e-ff7b-44f3-98f4-49a399a0a89f",
   "metadata": {},
   "outputs": [],
   "source": [
    "#Расчёт среднегодового расхода и объёма стока\n",
    "volume_of_water=sum(fig_ready_hydrograph)\n",
    "me_rashod_year=volume_of_water/len(fig_ready_hydrograph)\n",
    "print('Среднегодовой расход',me_rashod_year, 'м3/c.', 'Суммарный расход за год', volume_of_water, 'м3/c.')\n"
   ]
  }
 ],
 "metadata": {
  "kernelspec": {
   "display_name": "Python 3 (ipykernel)",
   "language": "python",
   "name": "python3"
  },
  "language_info": {
   "codemirror_mode": {
    "name": "ipython",
    "version": 3
   },
   "file_extension": ".py",
   "mimetype": "text/x-python",
   "name": "python",
   "nbconvert_exporter": "python",
   "pygments_lexer": "ipython3",
   "version": "3.12.4"
  }
 },
 "nbformat": 4,
 "nbformat_minor": 5
}
